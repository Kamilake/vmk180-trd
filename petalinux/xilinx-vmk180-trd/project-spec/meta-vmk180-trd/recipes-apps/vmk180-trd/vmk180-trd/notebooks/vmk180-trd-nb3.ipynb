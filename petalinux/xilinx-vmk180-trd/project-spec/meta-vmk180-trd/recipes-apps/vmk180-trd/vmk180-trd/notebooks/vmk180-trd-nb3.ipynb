{
 "cells": [
  {
   "cell_type": "markdown",
   "metadata": {},
   "source": [
    "![Xilinx Logo](images/xilinx_logo.png \"Xilinx Logo\")"
   ]
  },
  {
   "cell_type": "markdown",
   "metadata": {},
   "source": [
    "# 1. Introduction"
   ]
  },
  {
   "cell_type": "markdown",
   "metadata": {},
   "source": [
    "# 2. Imports and Initialization"
   ]
  },
  {
   "cell_type": "markdown",
   "metadata": {},
   "source": [
    "Import all python modules required for this notebook. "
   ]
  },
  {
   "cell_type": "code",
   "execution_count": 1,
   "metadata": {},
   "outputs": [],
   "source": [
    "from IPython.display import Image, display, clear_output\n",
    "import pydot\n",
    "import sys\n",
    "import time\n",
    "import gi\n",
    "gi.require_version('Gst', '1.0')\n",
    "gi.require_version(\"GstApp\", \"1.0\")\n",
    "from gi.repository import GObject, GLib, Gst, GstApp"
   ]
  },
  {
   "cell_type": "markdown",
   "metadata": {},
   "source": [
    "This is the VMK180 TRD notebook 2 (nb2)."
   ]
  },
  {
   "cell_type": "code",
   "execution_count": 2,
   "metadata": {},
   "outputs": [],
   "source": [
    "nb = \"nb2\""
   ]
  },
  {
   "cell_type": "code",
   "execution_count": 3,
   "metadata": {},
   "outputs": [
    {
     "name": "stdout",
     "output_type": "stream",
     "text": [
      "env: GST_DEBUG_DUMP_DOT_DIR=/home/root/gst-dot/nb2\n"
     ]
    }
   ],
   "source": [
    "dotdir = \"/home/root/gst-dot/\" + nb\n",
    "!mkdir -p $dotdir\n",
    "%env GST_DEBUG_DUMP_DOT_DIR = $dotdir"
   ]
  },
  {
   "cell_type": "code",
   "execution_count": 4,
   "metadata": {},
   "outputs": [],
   "source": [
    "import xlnx_pciesrc\n",
    "import ctypes\n",
    "from ctypes import *"
   ]
  },
  {
   "cell_type": "code",
   "execution_count": 5,
   "metadata": {},
   "outputs": [
    {
     "name": "stdout",
     "output_type": "stream",
     "text": [
      "c_int(4)\n",
      "pcie_src usecase\n",
      "video/x-raw, width=3840, height=2160, format=YUY2, framerate=30/1\n"
     ]
    }
   ],
   "source": [
    "Gst.init(None)\n",
    "\n",
    "pcie_fd = xlnx_pciesrc.PCIe_GetDevice()\n",
    "usecase = xlnx_pciesrc.PCIe_Getusecase(pcie_fd)\n",
    "print(usecase)\n",
    "\n",
    "if usecase.value == 1 :\n",
    "        src_type = \"mipi\"\n",
    "        io_mode = \"dmabuf\"\n",
    "        src = Gst.ElementFactory.make(\"xlnxvideosrc\")\n",
    "        src.set_property(\"io-mode\", io_mode)\n",
    "        src.set_property(\"src-type\", src_type)\n",
    "        res_dict = {\n",
    "            \"1080p\" : (\"1920\", \"1080\"),\n",
    "            \"2160p\" : (\"3840\", \"2160\")\n",
    "            }\n",
    "        res = \"2160p\" # Change the resolution string to 720p, 1080p, or 2160p (mipi only)\n",
    "        width = res_dict[res][0]\n",
    "        height = res_dict[res][1]\n",
    "        print(\"Selected resolution: \" + width + \"x\" + height)\n",
    "\n",
    "        fmt = \"YUY2\"\n",
    "\n",
    "        caps = Gst.ElementFactory.make(\"capsfilter\")\n",
    "        cap = Gst.Caps.from_string(\"video/x-raw, width=\" + str(width) + \", height=\" + str(height) + \", format=\" + fmt)\n",
    "        caps.set_property(\"caps\", cap)\n",
    "\n",
    "elif ((usecase.value > 1) & (usecase.value <= 4) ) :\n",
    "        print(\"pcie_src usecase\")\n",
    "        src = Gst.ElementFactory.make(\"appsrc\")\n",
    "        caps = Gst.ElementFactory.make(\"capsfilter\")\n",
    "        xlnx_pciesrc.xlnx_pcieappsrc(src,caps)\n",
    "        xlnx_pciesrc.export_pciedmabuff(pcie_fd)\n",
    "        \n",
    "else :\n",
    "        print(\"invalid use case\")\n",
    "        exit()"
   ]
  },
  {
   "cell_type": "code",
   "execution_count": 6,
   "metadata": {},
   "outputs": [
    {
     "name": "stdout",
     "output_type": "stream",
     "text": [
      "kmssink use case\n"
     ]
    }
   ],
   "source": [
    "if ((usecase.value >= 1) & (usecase.value <=3)) :\n",
    "        sink = Gst.ElementFactory.make(\"appsink\")\n",
    "        xlnx_pciesrc.xlnx_pcieappsink(sink)\n",
    "elif (usecase.value == 4)   :\n",
    "        print(\"kmssink use case\")\n",
    "        driver_name = \"xlnx\"\n",
    "        plane_id = 38\n",
    "        xoff = 0 # Change this value to move the plane position in the x-direction\n",
    "        yoff = 0 # Change this value to move the plane position in the y-direction\n",
    "        width = int('3840', 10)\n",
    "        height = int('2160', 10)\n",
    "        render_rectangle = Gst.ValueArray((xoff, yoff, width, height))\n",
    "        sink = Gst.ElementFactory.make(\"kmssink\")\n",
    "        sink.set_property(\"driver-name\", driver_name)\n",
    "        sink.set_property(\"plane-id\", plane_id)\n",
    "        sink.set_property(\"render-rectangle\", render_rectangle)\n",
    "        sink.set_property(\"sync\", False)\n",
    "else :\n",
    "        print(\"invalid use case\")\n",
    "        exit()"
   ]
  },
  {
   "cell_type": "markdown",
   "metadata": {},
   "source": [
    "# 5. Create and Run the GStreamer Pipeline"
   ]
  },
  {
   "cell_type": "code",
   "execution_count": 7,
   "metadata": {},
   "outputs": [],
   "source": [
    "#add ivas filter as well\n",
    "add_filter = '0'"
   ]
  },
  {
   "cell_type": "code",
   "execution_count": 8,
   "metadata": {},
   "outputs": [],
   "source": [
    "#add ivas filter as well\n",
    "if add_filter == '1' :\n",
    "    jsondir = \"/usr/share/vvas/vmk180-trd/\"\n",
    "    filter_kernels = [\"PL\"]\n",
    "    filter_kernel = filter_kernels[0] # Change filter kernel to PL, AIE or SW via list index\n",
    "    print(\"Selected filter2d kernel: \" + filter_kernel)\n",
    "\n",
    "    if filter_kernel == \"PL\":\n",
    "        jfile = jsondir + \"kernel_xfilter2d_pl.json\"\n",
    "        #\"kernel_xfilter2d_pl_lk.json\"\n",
    "    elif filter_kernel == \"AIE\":\n",
    "        assert width == 1280 and height == 720, \"The AIE filter2d kernel only supports 720p!\"\n",
    "        # TODO\n",
    "    else: # filter_kernel == \"SW\"\n",
    "        jfile = jsondir + \"kernel_xfilter2d_sw.json\"\n",
    "\n",
    "    filter2d = Gst.ElementFactory.make(\"vvas_xfilter\")\n",
    "    filter2d.set_property(\"kernels-config\", jfile)\n",
    "\n",
    "    plist = [\n",
    "        \"blur\",\n",
    "        \"edge\",\n",
    "        \"horizontal edge\",\n",
    "        \"vertical edge\",\n",
    "        \"emboss\",\n",
    "        \"horizontal gradient\",\n",
    "        \"vertical gradient\",\n",
    "        \"identity\",\n",
    "        \"sharpen\",\n",
    "        \"horizontal sobel\",\n",
    "        \"vertical sobel\",\n",
    "        \"custom\"\n",
    "    ]\n",
    "\n",
    "    def print_presets():\n",
    "        print(\"Supported filter presets:\\n\")\n",
    "        print('\\n'.join(plist) + '\\n')\n",
    "    \n",
    "    #print_presets()\n",
    "\n",
    "    def set_preset(val):\n",
    "        if val in plist:\n",
    "            jstring = '{ \"filter_preset\" : \"' +  val + '\" }'\n",
    "        #print(jstring)\n",
    "            filter2d.set_property(\"dynamic-config\", jstring)\n",
    "        else:\n",
    "            raise Exception(\"Unsupported filter preset \\'\" + val + \"\\'\")\n",
    "\n",
    "    set_preset(\"identity\")\n",
    "\n",
    "    def set_coeff(val):\n",
    "        jstring = '{ \"filter_coefficients\" : ' + val + ' }'\n",
    "        print(jstring)\n",
    "        filter2d.set_property(\"dynamic-config\", jstring)\n",
    "\n",
    "perf =  Gst.ElementFactory.make(\"perf\")"
   ]
  },
  {
   "cell_type": "markdown",
   "metadata": {},
   "source": [
    "Create the pipeline, add all elements, and link them together."
   ]
  },
  {
   "cell_type": "code",
   "execution_count": 9,
   "metadata": {},
   "outputs": [],
   "source": [
    "pipeline = Gst.Pipeline.new(nb)\n",
    "pipeline.add(src)\n",
    "pipeline.add(caps)\n",
    "pipeline.add(perf)\n",
    "if ( usecase.value == 1 ) :\n",
    "    pipeline.add(caps)\n",
    "#pipeline.add(perf)\n",
    "pipeline.add(sink)\n",
    "\n",
    "if(usecase.value == 1) :\n",
    "    src.link(caps)\n",
    "    caps.link(sink)\n",
    "else :\n",
    "    src.link(caps)\n",
    "    caps.link(perf)\n",
    "    perf.link(sink)\n"
   ]
  },
  {
   "cell_type": "markdown",
   "metadata": {},
   "source": [
    "Start the pipeline (set to ``PLAYING`` state), create the main loop and listen to messages on the bus. Register the ``bus_call`` callback function with the ``message`` signal of the bus. Start the main loop.\n",
    "\n",
    "The video will be displayed on the monitor. The frame rate will be printed and updated below the code cell.\n",
    "\n",
    "To stop the pipeline, click the square shaped icon labelled 'Interrupt the kernel' in the top menu bar. Create a dot graph of the pipeline topology before stopping the pipeline. Quit the main loop."
   ]
  },
  {
   "cell_type": "code",
   "execution_count": 10,
   "metadata": {},
   "outputs": [],
   "source": [
    "def bus_call(bus, message, loop):\n",
    "    t = message.type\n",
    "    if t == Gst.MessageType.EOS:\n",
    "        sys.stdout.write(\"End-of-stream\\n\")\n",
    "        xlnx_pciesrc.xlnx_pciecleanup()\n",
    "        pipeline.set_state(Gst.State.NULL)\n",
    "        loop.quit()\n",
    "    elif t == Gst.MessageType.INFO:\n",
    "        err, info = message.parse_info()\n",
    "        sys.stderr.write(\"Info: %s\\n\" % info)\n",
    "        clear_output(wait=True)\n",
    "    elif t == Gst.MessageType.ERROR:\n",
    "        err, debug = message.parse_error()\n",
    "        sys.stderr.write(\"Error: %s: %s\\n\" % (err, debug))\n",
    "        pipeline.set_state(Gst.State.NULL)\n",
    "        loop.quit()\n",
    "    return True"
   ]
  },
  {
   "cell_type": "code",
   "execution_count": 11,
   "metadata": {},
   "outputs": [
    {
     "name": "stdout",
     "output_type": "stream",
     "text": [
      "Interrupt caught\n"
     ]
    },
    {
     "name": "stderr",
     "output_type": "stream",
     "text": [
      "/tmp/ipykernel_814/3250633036.py:12: Warning: g_value_set_boolean: assertion 'G_VALUE_HOLDS_BOOLEAN (value)' failed\n",
      "  Gst.debug_bin_to_dot_file(pipeline, Gst.DebugGraphDetails.ALL, nb)\n"
     ]
    }
   ],
   "source": [
    "pipeline.set_state(Gst.State.PLAYING);\n",
    "loop = GLib.MainLoop()\n",
    "bus = pipeline.get_bus()\n",
    "bus.add_signal_watch()\n",
    "bus.connect(\"message\",bus_call, loop)\n",
    "try:\n",
    "    loop.run()\n",
    "except:\n",
    "    if (usecase.value == 1) :\n",
    "            xlnx_pciesrc.xlnx_pciecleanup()\n",
    "    sys.stdout.write(\"Interrupt caught\\n\")\n",
    "    Gst.debug_bin_to_dot_file(pipeline, Gst.DebugGraphDetails.ALL, nb)\n",
    "    pipeline.set_state(Gst.State.NULL)\n",
    "    loop.quit()\n",
    "    pass"
   ]
  },
  {
   "cell_type": "markdown",
   "metadata": {},
   "source": [
    "# 7. Summary"
   ]
  },
  {
   "cell_type": "markdown",
   "metadata": {},
   "source": [
    "In this notebook you learned how to:\n",
    "1. Create a GStreamer pipeline that demonstrates how to capture video from a V4L2 device and display it on a monitor\n",
    "2. Plot the live memory bandwidth by running the APM notebook in parallel\n",
    "3. Export the pipeline topology as a dot file image and display it in the notebook"
   ]
  },
  {
   "cell_type": "markdown",
   "metadata": {},
   "source": [
    "<center>Copyright© 2019 Xilinx</center>"
   ]
  }
 ],
 "metadata": {
  "kernelspec": {
   "display_name": "Python 3 (ipykernel)",
   "language": "python",
   "name": "python3"
  },
  "language_info": {
   "codemirror_mode": {
    "name": "ipython",
    "version": 3
   },
   "file_extension": ".py",
   "mimetype": "text/x-python",
   "name": "python",
   "nbconvert_exporter": "python",
   "pygments_lexer": "ipython3",
   "version": "3.9.9"
  }
 },
 "nbformat": 4,
 "nbformat_minor": 4
}
