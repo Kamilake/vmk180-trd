{
 "cells": [
  {
   "cell_type": "markdown",
   "metadata": {},
   "source": [
    "![Xilinx Logo](images/xilinx_logo.png \"Xilinx Logo\")"
   ]
  },
  {
   "cell_type": "markdown",
   "metadata": {},
   "source": [
    "# 1. Introduction"
   ]
  },
  {
   "cell_type": "markdown",
   "metadata": {},
   "source": [
    "This notebook demonstrates how to configure a V4L2 device, launches endpoint application which processes media content through filter(optional) and transfers processed content to host via PCIe.  \n",
    "\n",
    "Depending on the usecase following Gstreamer elements are used:\n",
    "* The ``pciesrc`` element is used to receive video frames from host machine.\n",
    "* The ``sdxfilter2d`` element is used to implement a 2D convolution filter.\n",
    "* The ``pciesink`` element is used to send video frames to host mahine in zero copy fashion.\n",
    "\n",
    "Three different use cases are demonstrated using gstreamer based pcie Endpoint application.\n",
    "* Capture from v4l2 device (MIPI), process the frames using filter2d plugin and display on host machine using pciesink.\n",
    "\n",
    "* Receive a video file from host machine using pciesrc, process the received frames using filter2d plugin and send processed video frames to host machine through pciesink.\n",
    "\n",
    "* Receive a video file from host machine using pciesrc and send video frames to host machine through pciesink without processing.\n"
   ]
  },
  {
   "cell_type": "markdown",
   "metadata": {},
   "source": [
    "Based on the control information from the host application endpoint application will execute anyone of the above mentioned usecases.\n",
    "\n",
    "All above usecases runs 30 fps and suppots below resolutions :\n",
    "\n",
    "`` 1920x1080 ``\n",
    "`` 3840x2160 ``"
   ]
  },
  {
   "cell_type": "code",
   "execution_count": null,
   "metadata": {},
   "outputs": [],
   "source": [
    "res = \"2160p\" # Change the resolution, string to 1080p or 2160p (mipi only), resolution should be same as the one selected on host application. \n",
    "if res == \"1080p\": \n",
    "    !xmediactl_1080.sh\n",
    "else :\n",
    "    !xmediactl.sh"
   ]
  },
  {
   "cell_type": "markdown",
   "metadata": {},
   "source": [
    "Set XRT related environment variables."
   ]
  },
  {
   "cell_type": "code",
   "execution_count": null,
   "metadata": {},
   "outputs": [],
   "source": [
    "%env XILINX_XRT = /usr\n",
    "%env XCL_BINDIR = /media/sd-mmcblk0p1"
   ]
  },
  {
   "cell_type": "code",
   "execution_count": null,
   "metadata": {},
   "outputs": [],
   "source": [
    "!pcie_gst_app #for fps related debugs go through Readme.txt in the pcie-gst-app recipe"
   ]
  },
  {
   "cell_type": "markdown",
   "metadata": {},
   "source": [
    "<center>Copyright© 2021 Xilinx</center>"
   ]
  }
 ],
 "metadata": {
  "kernelspec": {
   "display_name": "Python 3 (ipykernel)",
   "language": "python",
   "name": "python3"
  },
  "language_info": {
   "codemirror_mode": {
    "name": "ipython",
    "version": 3
   },
   "file_extension": ".py",
   "mimetype": "text/x-python",
   "name": "python",
   "nbconvert_exporter": "python",
   "pygments_lexer": "ipython3",
   "version": "3.9.9"
  }
 },
 "nbformat": 4,
 "nbformat_minor": 4
}
