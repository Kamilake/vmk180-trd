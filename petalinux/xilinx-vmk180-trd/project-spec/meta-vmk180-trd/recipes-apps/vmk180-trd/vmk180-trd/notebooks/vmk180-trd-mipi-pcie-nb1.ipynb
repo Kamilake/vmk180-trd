{
 "cells": [
  {
   "cell_type": "markdown",
   "metadata": {},
   "source": [
    "![Xilinx Logo](images/xilinx_logo.png \"Xilinx Logo\")"
   ]
  },
  {
   "cell_type": "markdown",
   "metadata": {},
   "source": [
    "# 1. Introduction"
   ]
  },
  {
   "cell_type": "markdown",
   "metadata": {},
   "source": [
    "This notebook demonstrates sharing of  video buffers using dma through pcie in 0-copy fashion. \n",
    "\n",
    "The usecases is composed of the following GStreamer elements:\n",
    "* The ``pciesrc`` element is used to receive video frames from host machine.\n",
    "* The ``sdxfilter2d`` element is used to implement a 2D convolution filter.\n",
    "* The ``pciesink`` element is used to send video frames to host mahine in zero copy fashion.\n",
    "\n",
    "Three different use cases are demonstrated using gstreamer based pcie Endpoint application.\n",
    "* Capture from v4l2 device (MIPI), process the frames using filter2d plugin and display on host machine using       gstreamer based pciesink.\n",
    "\n",
    "* Receive a video file from host machine using pciesrc, process the received frames using filter2d plugin and send processed video frames to host machine through pciesink.\n",
    "\n",
    "* Receive a video file from host machine using pciesrc and send video frames to host machine trough pciesink without processing.\n"
   ]
  },
  {
   "cell_type": "markdown",
   "metadata": {},
   "source": [
    "Gstreamer based pcie endpoint application will be running in a loop.\n",
    "\n",
    "Based on the control information from the host application endpoint application will switch between above usecases.\n",
    "\n",
    "All above usecases will be running at 30 fps and suppoted Resolutions are :\n",
    "\n",
    "`` 1920x1080 ``\n",
    "`` 3840x2160 ``"
   ]
  },
  {
   "cell_type": "code",
   "execution_count": 1,
   "metadata": {},
   "outputs": [
    {
     "name": "stdout",
     "output_type": "stream",
     "text": [
      "setting IMX274 to SRGBB 1920x1080\n",
      "setting csiss to SRGBB 1920x1080\n",
      "setting demosaic:0  SRGBB 1920x1080\n",
      "setting demosaic:1  RGB24 1920x1080\n",
      "setting scalar:0  RGB24 1920x1080\n",
      "setting scalar:1  UYVy8_1X16 1920x1080\n"
     ]
    }
   ],
   "source": [
    "res = \"1080p\" # Change the resolution string to 1080p or 2160p (mipi only)\n",
    "if res == \"1080p\": \n",
    "    !xmediactl_1080.sh\n",
    "else :\n",
    "    !xmediactl.sh\n"
   ]
  },
  {
   "cell_type": "markdown",
   "metadata": {},
   "source": [
    "Set XRT related environment variables."
   ]
  },
  {
   "cell_type": "code",
   "execution_count": 2,
   "metadata": {},
   "outputs": [
    {
     "name": "stdout",
     "output_type": "stream",
     "text": [
      "env: XILINX_XRT=/usr\n",
      "env: XCL_BINDIR=/media/sd-mmcblk0p1\n"
     ]
    }
   ],
   "source": [
    "%env XILINX_XRT = /usr\n",
    "%env XCL_BINDIR = /media/sd-mmcblk0p1"
   ]
  },
  {
   "cell_type": "markdown",
   "metadata": {},
   "source": [
    "Set flag fps to 1, to get fps info for the pipeline."
   ]
  },
  {
   "cell_type": "code",
   "execution_count": 3,
   "metadata": {},
   "outputs": [],
   "source": [
    "fps = '0' # By default fps is disabled"
   ]
  },
  {
   "cell_type": "code",
   "execution_count": 4,
   "metadata": {},
   "outputs": [
    {
     "name": "stdout",
     "output_type": "stream",
     "text": [
      "^C\n"
     ]
    }
   ],
   "source": [
    "!pcie_gst_app\n",
    "        "
   ]
  },
  {
   "cell_type": "markdown",
   "metadata": {},
   "source": [
    "<center>Copyright© 2021 Xilinx</center>"
   ]
  }
 ],
 "metadata": {
  "kernelspec": {
   "display_name": "Python 3",
   "language": "python",
   "name": "python3"
  },
  "language_info": {
   "codemirror_mode": {
    "name": "ipython",
    "version": 3
   },
   "file_extension": ".py",
   "mimetype": "text/x-python",
   "name": "python",
   "nbconvert_exporter": "python",
   "pygments_lexer": "ipython3",
   "version": "3.8.5"
  }
 },
 "nbformat": 4,
 "nbformat_minor": 4
}
