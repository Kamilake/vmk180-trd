{
 "cells": [
  {
   "cell_type": "markdown",
   "metadata": {},
   "source": [
    "![Xilinx Logo](images/xilinx_logo.png \"Xilinx Logo\")"
   ]
  },
  {
   "cell_type": "markdown",
   "metadata": {},
   "source": [
    "# 1. Introduction"
   ]
  },
  {
   "cell_type": "markdown",
   "metadata": {},
   "source": [
    "This notebook demonstrates mipi captured frame or videoplayback of a file source using dma-buf sharing through pcie in 0-copy fashion.\n",
    "\n",
    "The usecases is composed of the following GStreamer elements:\n",
    "* The ``pciesrc`` element is used to receive video frames from host machine.\n",
    "* The ``sdxfilter2d`` element is used to implement a 2D convolution filter.\n",
    "* The ``pciesink`` element is used to send video frames to host mahine in zero copy fashion.\n",
    "\n",
    "Three different use cases are demonstrated using gstreamer based pcie Endpoint application.\n",
    "* Capture from v4l2 device (MIPI), process the frames using filter2d plugin and display on host machine using       gstreamer based pciesink.\n",
    "\n",
    "* Receive a video file from host machine using pciesrc, process the received frames using filter2d plugin and send processed video frames to host machine through pciesink.\n",
    "\n",
    "* Receive a video file from host machine using pciesrc and send video frames to host machine trough pciesink without processing.\n"
   ]
  },
  {
   "cell_type": "markdown",
   "metadata": {},
   "source": [
    "Gstreamer based pcie endpoint application will be running.\n",
    "\n",
    "Based on the control information from the host application endpoint application will switch between above usecases.\n",
    "\n",
    "All above usecases will be running at 30 fps and suppoted Resolutions are :\n",
    "\n",
    "`` 1920x1080 ``\n",
    "`` 3840x2160 ``"
   ]
  },
  {
   "cell_type": "code",
   "execution_count": 1,
   "metadata": {},
   "outputs": [],
   "source": [
    "enable_fps_30 = '1'  # By default mipi fps to 30, change this variable to 0 to run mipi to hdmi pipeline while testing simultaneous.
   ]
  },
  {
   "cell_type": "code",
   "execution_count": 2,
   "metadata": {},
   "outputs": [],
   "source": [
    "if enable_fps_30 == '1' :\n",
    "    res = \"2160p\" # Change the resolution string to 1080p or 2160p (mipi only)\n",
    "    if res == \"1080p\": \n",
    "        !xmediactl_1080.sh\n",
    "    else :\n",
    "        !xmediactl.sh"
   ]
  },
  {
   "cell_type": "markdown",
   "metadata": {},
   "source": [
    "Set XRT related environment variables."
   ]
  },
  {
   "cell_type": "code",
   "execution_count": 3,
   "metadata": {},
   "outputs": [
    {
     "name": "stdout",
     "output_type": "stream",
     "text": [
      "env: XILINX_XRT=/usr\n",
      "env: XCL_BINDIR=/media/sd-mmcblk0p1\n"
     ]
    }
   ],
   "source": [
    "%env XILINX_XRT = /usr\n",
    "%env XCL_BINDIR = /media/sd-mmcblk0p1"
   ]
  },
  {
   "cell_type": "code",
   "execution_count": 4,
   "metadata": {},
   "outputs": [],
   "source": [
    "!pcie_gst_app        "
   ]
  },
  {
   "cell_type": "markdown",
   "metadata": {},
   "source": [
    "<center>Copyright© 2021 Xilinx</center>"
   ]
  }
 ],
 "metadata": {
  "kernelspec": {
   "display_name": "Python 3",
   "language": "python",
   "name": "python3"
  },
  "language_info": {
   "codemirror_mode": {
    "name": "ipython",
    "version": 3
   },
   "file_extension": ".py",
   "mimetype": "text/x-python",
   "name": "python",
   "nbconvert_exporter": "python",
   "pygments_lexer": "ipython3",
   "version": "3.8.5"
  }
 },
 "nbformat": 4,
 "nbformat_minor": 4
}
