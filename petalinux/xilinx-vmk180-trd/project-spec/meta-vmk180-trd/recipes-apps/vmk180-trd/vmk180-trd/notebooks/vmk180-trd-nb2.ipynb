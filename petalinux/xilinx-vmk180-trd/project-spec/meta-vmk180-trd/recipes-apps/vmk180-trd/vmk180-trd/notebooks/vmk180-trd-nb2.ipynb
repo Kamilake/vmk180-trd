{
 "cells": [
  {
   "cell_type": "markdown",
   "metadata": {},
   "source": [
    "![Xilinx Logo](images/xilinx_logo.png \"Xilinx Logo\")"
   ]
  },
  {
   "cell_type": "markdown",
   "metadata": {},
   "source": [
    "# 1. Introduction"
   ]
  },
  {
   "cell_type": "markdown",
   "metadata": {},
   "source": [
    "This notebook demonstrates how to capture video from a MIPI device, processes it through filter(optional) and display the output on a monitor using a DRM/KMS display device. This notebook uses the GStreamer multimedia framework. In addition, the memory bandwidth is measured and plotted in a parallel notebook.\n",
    "\n",
    "The display device uses the Xilinx DRM/KMS driver. A video mixer supports alpha blending of multiple layers (also called planes). \n",
    "The plane formats are fixed and configured as follows:\n",
    "* 4 BG24 planes (IDs: 34-37)\n",
    "* 4 YUY2 planes (IDs: 38-41)\n",
    "* 1 ARGB plane (ID: 42) - this is the primary plane used for setting the CRTC resolution\n",
    "\n",
    "The video mixer is connected to an HDMI encoder which drives the display. Both video mixer and HDMI encoder are implemented inside the FPGA.\n",
    "\n",
    "The video pipeline is composed of the following GStreamer elements:\n",
    "* The ``xlnxvideosrc`` element is used to capture video from a V4L2 device\n",
    "* The ``sdxfilter2d`` element is used to implement a 2D convolution filter\n",
    "* The ``perf`` element is used to measure and print the frame rate\n",
    "* The ``kmssink`` element is used to display video on a monitor using the DRM/KMS kernel subsystem\n",
    "\n",
    "The ``vmk180-trd-apm`` notebook is executed in parallel to this notebook to measure and plot the memory bandwidth of the live video pipeline.\n",
    "\n",
    "In this notebook, you will:\n",
    "1. Create a GStreamer video pipeline that captures video from a V4L2 device and displays the video on a monitor using DRM/KMS.\n",
    "2. Gstreamer pipeline with and without filter is created using the configuration parameter.\n",
    "3. Run the ``trd-apm`` notebook to measure and plot the memory bandwidth while the video pipeline is running.\n",
    "4. Create a GStreamer pipeline graph and view it inside this notebook."
   ]
  },
  {
   "cell_type": "markdown",
   "metadata": {},
   "source": [
    "# 2. Imports and Initialization"
   ]
  },
  {
   "cell_type": "markdown",
   "metadata": {},
   "source": [
    "Import all python modules required for this notebook. "
   ]
  },
  {
   "cell_type": "code",
   "execution_count": 1,
   "metadata": {},
   "outputs": [],
   "source": [
    "from IPython.display import Image, display, clear_output\n",
    "import pydot\n",
    "import sys\n",
    "import time\n",
    "import gi\n",
    "gi.require_version('Gst', '1.0')\n",
    "gi.require_version(\"GstApp\", \"1.0\")\n",
    "from gi.repository import GObject, GLib, Gst, GstApp"
   ]
  },
  {
   "cell_type": "markdown",
   "metadata": {},
   "source": [
    "This is the VMK180 TRD notebook 2 (nb2)."
   ]
  },
  {
   "cell_type": "code",
   "execution_count": 2,
   "metadata": {},
   "outputs": [],
   "source": [
    "nb = \"nb2\""
   ]
  },
  {
   "cell_type": "markdown",
   "metadata": {},
   "source": [
    "Create a directory for saving the pipeline graph as dot file. Set the GStreamer debug dot directory environement variable to point to that directory."
   ]
  },
  {
   "cell_type": "code",
   "execution_count": 3,
   "metadata": {},
   "outputs": [
    {
     "name": "stdout",
     "output_type": "stream",
     "text": [
      "env: GST_DEBUG_DUMP_DOT_DIR=/home/root/gst-dot/nb2\n"
     ]
    }
   ],
   "source": [
    "dotdir = \"/home/root/gst-dot/\" + nb\n",
    "!mkdir -p $dotdir\n",
    "%env GST_DEBUG_DUMP_DOT_DIR = $dotdir"
   ]
  },
  {
   "cell_type": "markdown",
   "metadata": {},
   "source": [
    "Initialize the GStreamer library. Optionally enable debug (default off) and set the debug level."
   ]
  },
  {
   "cell_type": "code",
   "execution_count": 4,
   "metadata": {},
   "outputs": [],
   "source": [
    "Gst.init(None)\n",
    "Gst.debug_set_active(False)\n",
    "Gst.debug_set_default_threshold(1)"
   ]
  },
  {
   "cell_type": "markdown",
   "metadata": {},
   "source": [
    "# 3. Run the APM Notebook to Plot the Memory Bandwidth"
   ]
  },
  {
   "cell_type": "markdown",
   "metadata": {},
   "source": [
    "Open the ``vmk180-trd-apm.ipynb`` notebook from the *File Browser* in a new tab. Execute the notebook by selecting *Run -> Run All Cells* from the Jupyter Lab menu bar. In section 4 of the APM notebook, a horizontal bar graph is shown that plots the currently consumed memory bandwidth split out by different AXI ports. For more information, read the APM notebook tutorial.\n",
    "\n",
    "Once you see the graph, right-click the graph and select *Create New View for Output*. This will create a new window/tab with just the graph. Now re-arrange the window by dragging it to the the right side of the screen so it shows side-by-side with the notebook window (see screenshot below).\n",
    "\n",
    "![APM Plot](images/apm-plot-nb3.jpg \"APM Plot\")\n",
    "\n",
    "Switch tabs back to the nb2 notebook and follow the steps below. Once the video pipeline is running, you will notice the bar graph will be updated live with the measured memory bandwidth numbers in Gbps.\n",
    "\n",
    "**Note:** You can keep the memory bandwith output view open while switching between notebooks. There is no need to restart the APM notebook."
   ]
  },
  {
   "cell_type": "markdown",
   "metadata": {},
   "source": [
    "# 4. Create and Configure the GStreamer Elements"
   ]
  },
  {
   "cell_type": "markdown",
   "metadata": {},
   "source": [
    "Create the ``xlnxvideosrc`` element and set some properties:\n",
    "\n",
    "For MIPI,I/O mode is set to DMABUF (https://www.kernel.org/doc/html/v4.16/driver-api/dma-buf.html) which allows sharing of video buffers in 0-copy fashion between the source and sink elements."
   ]
  },
  {
   "cell_type": "code",
   "execution_count": 5,
   "metadata": {},
   "outputs": [],
   "source": [
    "src_type = \"mipi\"\n",
    "io_mode = \"dmabuf\"\n",
    "\n",
    "src = Gst.ElementFactory.make(\"xlnxvideosrc\")\n",
    "src.set_property(\"io-mode\", io_mode)\n",
    "src.set_property(\"src-type\", src_type)"
   ]
  },
  {
   "cell_type": "markdown",
   "metadata": {},
   "source": [
    "Create a caps filter element to set the desired resolution (width and height) and format. The caps filter is configured to parse the mentioned properties from a string.\n",
    "\n",
    "``mipi`` as source type, the maximum supported resolution is 3840x2160 (4K) at 60 fps. Note that the connected monitor also needs to support this resolution, otherwise the pipeline will fail during caps negotiation (see modeprint output below)."
   ]
  },
  {
   "cell_type": "code",
   "execution_count": 6,
   "metadata": {},
   "outputs": [
    {
     "name": "stdout",
     "output_type": "stream",
     "text": [
      "Selected resolution: 1920x1080\n"
     ]
    }
   ],
   "source": [
    "res_dict = {\n",
    "    \"720p\" : (\"1280\", \"720\"),\n",
    "    \"1080p\" : (\"1920\", \"1080\"),\n",
    "    \"2160p\" : (\"3840\", \"2160\")\n",
    "}\n",
    "res = \"2160p\" # Change the resolution string to 720p, 1080p, or 2160p (mipi only)\n",
    "width = res_dict[res][0]\n",
    "height = res_dict[res][1]\n",
    "print(\"Selected resolution: \" + width + \"x\" + height)\n",
    "\n",
    "fmt = \"YUY2\"\n",
    "\n",
    "caps = Gst.ElementFactory.make(\"capsfilter\")\n",
    "cap = Gst.Caps.from_string(\"video/x-raw, width=\" + str(width) + \", height=\" + str(height) + \", format=\" + fmt)\n",
    "caps.set_property(\"caps\", cap)"
   ]
  },
  {
   "cell_type": "code",
   "execution_count": 7,
   "metadata": {},
   "outputs": [],
   "source": [
    "add_filter = '0' # By default pipeline is created without filter, change this variable to 1 to add filter."
   ]
  },
  {
   "cell_type": "markdown",
   "metadata": {},
   "source": [
    "Set XRT related environment variables."
   ]
  },
  {
   "cell_type": "code",
   "execution_count": 8,
   "metadata": {},
   "outputs": [
    {
     "name": "stdout",
     "output_type": "stream",
     "text": [
      "env: XILINX_XRT=/usr\n",
      "env: XCL_BINDIR=/media/sd-mmcblk0p1\n"
     ]
    }
   ],
   "source": [
    "if add_filter == '1':\n",
    "    %env XILINX_XRT = /usr\n",
    "    %env XCL_BINDIR = /media/sd-mmcblk0p1"
   ]
  },
  {
   "cell_type": "markdown",
   "metadata": {},
   "source": [
    "Create the sdxfilter2d element. The filter2d element has a couple properties to specify the implementation of the kernel:\n",
    "\n",
    "The filter-mode property determines whether the kernel is run in\n",
    "software (\"SW\") on PS or\n",
    "accelerated in hardware (\"HW\").\n",
    "The filter-kernel is set to filter2d_pl_accel property if \"HW\" mode is selected:\n",
    "\n",
    "In the below cell, change the filter_mode variable to select the filter mode as per above description.\n",
    "\n",
    "**Note:** Filter element will be created only if ``add_filter``is set to 1"
   ]
  },
  {
   "cell_type": "code",
   "execution_count": 9,
   "metadata": {},
   "outputs": [
    {
     "name": "stdout",
     "output_type": "stream",
     "text": [
      "Selected filter mode: HW\n"
     ]
    }
   ],
   "source": [
    "if add_filter == '1':\n",
    "    filter_modes = [\"HW\", \"SW\"]\n",
    "    filter_mode = filter_modes[0] # Change filter mode to HW or SW via list index\n",
    "    print(\"Selected filter mode: \" + filter_mode)\n",
    "\n",
    "    filter_kernel = \"filter2d_pl_accel\"\n",
    "\n",
    "    filter2d = Gst.ElementFactory.make(\"sdxfilter2d\")\n",
    "    filter2d.set_property(\"filter-mode\", filter_mode)\n",
    "    filter2d.set_property(\"filter-kernel\", filter_kernel)"
   ]
  },
  {
   "cell_type": "markdown",
   "metadata": {},
   "source": [
    "The PL filter2d has two ways of programming the filter coefficients:\n",
    "\n",
    "by setting the filter-preset property\n",
    "by setting the coefficients property\n",
    "First, we look at how to set the filter-preset property. The below command returns a list of supported filter-presets to choose from."
   ]
  },
  {
   "cell_type": "code",
   "execution_count": 10,
   "metadata": {},
   "outputs": [
    {
     "name": "stdout",
     "output_type": "stream",
     "text": [
      "  filter-preset       : filter preset\n",
      "                        flags: readable, writable\n",
      "                        Enum \"GstSdxfilter2dFilterPreset\" Default: 0, \"blur\"\n",
      "                           (0): blur             - GST_SDXFILTER2D_PRESET_BLUR\n",
      "                           (1): edge             - GST_SDXFILTER2D_PRESET_EDGE\n",
      "                           (2): horizontal edge  - GST_SDXFILTER2D_PRESET_HEDGE\n",
      "                           (3): vertical edge    - GST_SDXFILTER2D_PRESET_VEDGE\n",
      "                           (4): emboss           - GST_SDXFILTER2D_PRESET_EMBOSS\n",
      "                           (5): horizontal gradient - GST_SDXFILTER2D_PRESET_HGRAD\n",
      "                           (6): vertical gradient - GST_SDXFILTER2D_PRESET_VGRAD\n",
      "                           (7): identity         - GST_SDXFILTER2D_PRESET_IDENTITY\n",
      "                           (8): sharpen          - GST_SDXFILTER2D_PRESET_SHARPEN\n",
      "                           (9): horizontal sobel - GST_SDXFILTER2D_PRESET_HSOBEL\n",
      "                           (10): vertical sobel   - GST_SDXFILTER2D_PRESET_VSOBEL\n"
     ]
    }
   ],
   "source": [
    "!gst-inspect-1.0 sdxfilter2d | grep -A 13 filter-preset"
   ]
  },
  {
   "cell_type": "markdown",
   "metadata": {},
   "source": [
    "Based on the above list, set the filter_preset variable to one of the string values listed on the left e.g. \"horizontal sobel\" which in turn is used to set the corresponding element property. The preset implicitly programs the filter coefficients behind the scene. When reading back the property value, the enum value is returned which is listed on the right e.g. \"GST_SDXFILTER2D_PRESET_HSOBEL\".\n",
    "\n",
    "**Note:** Filter property is set only if ``add_filter``is set to 1"
   ]
  },
  {
   "cell_type": "code",
   "execution_count": 11,
   "metadata": {},
   "outputs": [
    {
     "name": "stdout",
     "output_type": "stream",
     "text": [
      "filter-preset: <enum GST_SDXFILTER2D_PRESET_HSOBEL of type __main__.GstSdxfilter2dFilterPreset>\n"
     ]
    }
   ],
   "source": [
    "if add_filter == '1':\n",
    "    filter_preset = \"horizontal sobel\" # Change the filter preset to any of the pre-defined values\n",
    "\n",
    "    filter2d.set_property(\"filter-preset\", filter_preset)\n",
    "    print(\"filter-preset: \" + str(filter2d.get_property(\"filter-preset\")))"
   ]
  },
  {
   "cell_type": "markdown",
   "metadata": {},
   "source": [
    "The second way is to explicitly program the filter coefficients via the coefficients property. Setting the coefficients this way will override the preset, hence the below code is commented out by default. If you want to set the coefficients by value rather than by preset, uncomment the below code.\n",
    "\n",
    "The filter coefficients are a 3x3 matrix of short int values. The default values in the below code snippet correspond to the identity matrix which results is a simple passthrough. The identity coefficients are as follows:\n",
    "\n",
    " 0  0  0\n",
    " 0  1  0\n",
    " 0  0  0\n",
    "To match the coefficients for \"horizontal sobel\", use the following matrix:\n",
    "\n",
    " 1  2  1\n",
    " 0  0  0\n",
    "-1 -2 -1\n",
    "\n",
    "**Note:** Filter coefficients are set only if ``add_filter``is set to 1"
   ]
  },
  {
   "cell_type": "code",
   "execution_count": 12,
   "metadata": {},
   "outputs": [],
   "source": [
    "if add_filter == '1':\n",
    "    def print_coeff(coeff):\n",
    "        print(\"coefficients: \")\n",
    "        for i in range(0, 3):\n",
    "            for j in range(0, 3):\n",
    "                print(str(coeff[i][j]) + ' ', end = '')\n",
    "            print(' ')\n",
    "\n",
    "# Uncomment the below lines to use user-defined coefficient values instead of presets\n",
    "#coeff = Gst.ValueArray([Gst.ValueArray([0, 0, 0]), Gst.ValueArray([0, 1, 0]), Gst.ValueArray([0, 0, 0])]) # identity coefficients\n",
    "#coeff = Gst.ValueArray([Gst.ValueArray([1, 2, 1]), Gst.ValueArray([0, 0, 0]), Gst.ValueArray([-1, -2, -1])]) # horizontal sobel coefficients\n",
    "#filter2d.set_property(\"coefficients\", coeff)\n",
    "#new_coeff = filter2d.get_property(\"coefficients\")\n",
    "#print_coeff(new_coeff)"
   ]
  },
  {
   "cell_type": "markdown",
   "metadata": {},
   "source": [
    "Create the ``perf`` element which is used to measure and print the frame rate while the video pipeline is running."
   ]
  },
  {
   "cell_type": "code",
   "execution_count": 13,
   "metadata": {},
   "outputs": [],
   "source": [
    "perf = Gst.ElementFactory.make(\"perf\")"
   ]
  },
  {
   "cell_type": "markdown",
   "metadata": {},
   "source": [
    "The display driver creates a DRM device node with the module name ``xlnx``.\n",
    "\n",
    "List information about the DRM device by passing the module name to the ``modeprint`` utility."
   ]
  },
  {
   "cell_type": "code",
   "execution_count": 14,
   "metadata": {},
   "outputs": [
    {
     "name": "stdout",
     "output_type": "stream",
     "text": [
      "Starting test\n",
      "Resources\n",
      "\n",
      "count_connectors : 1\n",
      "count_encoders   : 1\n",
      "count_crtcs      : 1\n",
      "count_fbs        : 0\n",
      "\n",
      "Connector: HDMI-A-1\n",
      "\tid             : 46\n",
      "\tencoder id     : 45\n",
      "\tconn           : connected\n",
      "\tsize           : 610x350 (mm)\n",
      "\tcount_modes    : 46\n",
      "\tcount_props    : 10\n",
      "\tprops          : 1 2 5 6 4 8 47 48 49 50\n",
      "\tcount_encoders : 1\n",
      "\tencoders       : 45\n",
      "Mode: \"3840x2160\" 3840x2160 60\n",
      "Mode: \"3840x2160\" 3840x2160 60\n",
      "Mode: \"3840x2160\" 3840x2160 60\n",
      "Mode: \"3840x2160\" 3840x2160 50\n",
      "Mode: \"3840x2160\" 3840x2160 30\n",
      "Mode: \"3840x2160\" 3840x2160 30\n",
      "Mode: \"3840x2160\" 3840x2160 25\n",
      "Mode: \"3840x2160\" 3840x2160 24\n",
      "Mode: \"3840x2160\" 3840x2160 24\n",
      "Mode: \"2560x1440\" 2560x1440 60\n",
      "Mode: \"2048x1080\" 2048x1080 24\n",
      "Mode: \"1920x1080\" 1920x1080 60\n",
      "Mode: \"1920x1080\" 1920x1080 60\n",
      "Mode: \"1920x1080\" 1920x1080 60\n",
      "Mode: \"1920x1080\" 1920x1080 50\n",
      "Mode: \"1920x1080\" 1920x1080 30\n",
      "Mode: \"1920x1080\" 1920x1080 30\n",
      "Mode: \"1920x1080\" 1920x1080 25\n",
      "Mode: \"1920x1080\" 1920x1080 24\n",
      "Mode: \"1920x1080\" 1920x1080 24\n",
      "Mode: \"1600x1200\" 1600x1200 60\n",
      "Mode: \"1600x900\" 1600x900 60\n",
      "Mode: \"1280x1024\" 1280x1024 75\n",
      "Mode: \"1280x1024\" 1280x1024 60\n",
      "Mode: \"1920x1080i\" 1920x540 60\n",
      "Mode: \"1920x1080i\" 1920x540 60\n",
      "Mode: \"1920x1080i\" 1920x540 50\n",
      "Mode: \"1920x1080i\" 1920x540 50\n",
      "Mode: \"1152x864\" 1152x864 75\n",
      "Mode: \"1280x720\" 1280x720 60\n",
      "Mode: \"1280x720\" 1280x720 60\n",
      "Mode: \"1280x720\" 1280x720 50\n",
      "Mode: \"1024x768\" 1024x768 75\n",
      "Mode: \"1024x768\" 1024x768 60\n",
      "Mode: \"800x600\" 800x600 75\n",
      "Mode: \"800x600\" 800x600 60\n",
      "Mode: \"720x576\" 720x576 50\n",
      "Mode: \"720x480\" 720x480 60\n",
      "Mode: \"720x480\" 720x480 60\n",
      "Mode: \"640x480\" 640x480 75\n",
      "Mode: \"640x480\" 640x480 60\n",
      "Mode: \"640x480\" 640x480 60\n",
      "Mode: \"720x400\" 720x400 70\n",
      "Mode: \"720x576i\" 720x288 50\n",
      "Mode: \"720x480i\" 720x240 60\n",
      "Mode: \"720x480i\" 720x240 60\n",
      "\n",
      "Encoder: TMDS\n",
      "\tid     :45\n",
      "\tcrtc_id   :44\n",
      "\ttype   :2\n",
      "\tpossible_crtcs  :0x1\n",
      "\tpossible_clones :0x1\n",
      "\n",
      "Crtc\n",
      "\tid             : 44\n",
      "\tx              : 0\n",
      "\ty              : 0\n",
      "\twidth          : 3840\n",
      "\theight         : 2160\n",
      "\tmode           : 0xaaaabf73677c\n",
      "\tgamma size     : 0\n",
      "\n",
      "Ok\n"
     ]
    }
   ],
   "source": [
    "!modeprint xlnx"
   ]
  },
  {
   "cell_type": "markdown",
   "metadata": {},
   "source": [
    "Create the ``kmssink`` element and set some properties:\n",
    "* Set the ``driver-name`` property to the Xilinx DRM driver name ``xlnx``.\n",
    "* Set the ``plane-id`` property to the ID value of the target plane. The default value 34 is set to the first YUY2 plane.\n",
    "* Set the ``fullscreen-overlay`` property to ``False`` to keep the CRTC set to the native display resolution.\n",
    "* Set the ``render-rectangle`` property to a quadruple consisting of x-offset, y-offset, width, and height. The render-rectangle allows moving a plane position on the display."
   ]
  },
  {
   "cell_type": "code",
   "execution_count": 15,
   "metadata": {},
   "outputs": [],
   "source": [
    "driver_name = \"xlnx\"\n",
    "plane_id = 38\n",
    "xoff = 0 # Change this value to move the plane position in the x-direction\n",
    "yoff = 0 # Change this value to move the plane position in the y-direction\n",
    "width = int(width, 10)\n",
    "height = int(height, 10)\n",
    "render_rectangle = Gst.ValueArray((xoff, yoff, width, height))\n",
    "\n",
    "sink = Gst.ElementFactory.make(\"kmssink\")\n",
    "sink.set_property(\"driver-name\", driver_name)\n",
    "sink.set_property(\"plane-id\", plane_id)\n",
    "sink.set_property(\"render-rectangle\", render_rectangle)\n",
    "sink.set_property(\"sync\", False)\n",
    "\n",
    "# Uncomment the below code to read back the newly set property values\n",
    "#print(\"sink properties: \")\n",
    "#print(\"driver-name: \" + str(sink.get_property(\"driver-name\")))\n",
    "#print(\"plane-id: \" + str(sink.get_property(\"plane-id\")))\n"
   ]
  },
  {
   "cell_type": "markdown",
   "metadata": {},
   "source": [
    "# 5. Create and Run the GStreamer Pipeline"
   ]
  },
  {
   "cell_type": "markdown",
   "metadata": {},
   "source": [
    "Create the pipeline, add all elements, and link them together."
   ]
  },
  {
   "cell_type": "code",
   "execution_count": 16,
   "metadata": {},
   "outputs": [
    {
     "name": "stdout",
     "output_type": "stream",
     "text": [
      "<Gst.Pipeline object at 0xffff6b8b8e40 (GstPipeline at 0xaaaaed2f60f0)>\n"
     ]
    }
   ],
   "source": [
    "pipeline = Gst.Pipeline.new(nb)\n",
    "\n",
    "pipeline.add(src)\n",
    "pipeline.add(caps)\n",
    "pipeline.add(perf)\n",
    "if add_filter == '1':\n",
    "    pipeline.add(filter2d) # Create the filter2d element\n",
    "pipeline.add(sink)\n",
    "\n",
    "src.link(caps)\n",
    "if add_filter == '1':\n",
    "    caps.link(filter2d) # Link the fiter2d element's sink pad to the caps element \n",
    "    filter2d.link(perf)\n",
    "else:\n",
    "    caps.link(perf)\n",
    "perf.link(sink);\n",
    "print(pipeline)"
   ]
  },
  {
   "cell_type": "markdown",
   "metadata": {},
   "source": [
    "The ``bus_call`` function listens on the bus for ``EOS``, ``INFO`` and ``ERROR`` events. In case of ``EOS`` or ``ERROR``, stop the pipeline (set to ``NULL`` state) and quit the main loop. \n",
    "\n",
    "For ``INFO`` and ``ERROR`` events, parse and print the info/error message. The ``perf`` element generates ``INFO`` events with the measured frame rate."
   ]
  },
  {
   "cell_type": "code",
   "execution_count": 17,
   "metadata": {},
   "outputs": [],
   "source": [
    "def bus_call(bus, message, loop):\n",
    "    t = message.type\n",
    "    if t == Gst.MessageType.EOS:\n",
    "        sys.stdout.write(\"End-of-stream\\n\")\n",
    "        pipeline.set_state(Gst.State.NULL)\n",
    "        loop.quit()\n",
    "    elif t == Gst.MessageType.INFO:\n",
    "        err, info = message.parse_info()\n",
    "        sys.stderr.write(\"Info: %s\\n\" % info)\n",
    "        clear_output(wait=True)\n",
    "    elif t == Gst.MessageType.ERROR:\n",
    "        err, debug = message.parse_error()\n",
    "        sys.stderr.write(\"Error: %s: %s\\n\" % (err, debug))\n",
    "        pipeline.set_state(Gst.State.NULL)\n",
    "        loop.quit()\n",
    "    return True"
   ]
  },
  {
   "cell_type": "markdown",
   "metadata": {},
   "source": [
    "Start the pipeline (set to ``PLAYING`` state), create the main loop and listen to messages on the bus. Register the ``bus_call`` callback function with the ``message`` signal of the bus. Start the main loop.\n",
    "\n",
    "The video will be displayed on the monitor. The frame rate will be printed and updated below the code cell.\n",
    "\n",
    "To stop the pipeline, click the square shaped icon labelled 'Interrupt the kernel' in the top menu bar. Create a dot graph of the pipeline topology before stopping the pipeline. Quit the main loop."
   ]
  },
  {
   "cell_type": "code",
   "execution_count": 18,
   "metadata": {},
   "outputs": [
    {
     "name": "stdout",
     "output_type": "stream",
     "text": [
      "Interrupt caught\n"
     ]
    },
    {
     "name": "stderr",
     "output_type": "stream",
     "text": [
      "<ipython-input-18-de0c46054867>:12: Warning: g_value_set_boolean: assertion 'G_VALUE_HOLDS_BOOLEAN (value)' failed\n",
      "  Gst.debug_bin_to_dot_file(pipeline, Gst.DebugGraphDetails.ALL, nb)\n"
     ]
    }
   ],
   "source": [
    "pipeline.set_state(Gst.State.PLAYING);\n",
    "\n",
    "loop = GLib.MainLoop()\n",
    "bus = pipeline.get_bus()\n",
    "bus.add_signal_watch()\n",
    "bus.connect(\"message\", bus_call, loop)\n",
    "\n",
    "try:\n",
    "    loop.run()\n",
    "except:\n",
    "    sys.stdout.write(\"Interrupt caught\\n\")\n",
    "    Gst.debug_bin_to_dot_file(pipeline, Gst.DebugGraphDetails.ALL, nb)\n",
    "    pipeline.set_state(Gst.State.NULL)\n",
    "    loop.quit()\n",
    "    pass"
   ]
  },
  {
   "cell_type": "markdown",
   "metadata": {},
   "source": [
    "# 7. Summary"
   ]
  },
  {
   "cell_type": "markdown",
   "metadata": {},
   "source": [
    "In this notebook you learned how to:\n",
    "1. Create a GStreamer pipeline that demonstrates how to capture video from a V4L2 device and display it on a monitor\n",
    "2. Plot the live memory bandwidth by running the APM notebook in parallel\n",
    "3. Export the pipeline topology as a dot file image and display it in the notebook"
   ]
  },
  {
   "cell_type": "markdown",
   "metadata": {},
   "source": [
    "<center>Copyright© 2019 Xilinx</center>"
   ]
  }
 ],
 "metadata": {
  "kernelspec": {
   "display_name": "Python 3",
   "language": "python",
   "name": "python3"
  },
  "language_info": {
   "codemirror_mode": {
    "name": "ipython",
    "version": 3
   },
   "file_extension": ".py",
   "mimetype": "text/x-python",
   "name": "python",
   "nbconvert_exporter": "python",
   "pygments_lexer": "ipython3",
   "version": "3.8.5"
  }
 },
 "nbformat": 4,
 "nbformat_minor": 4
}
